{
 "cells": [
  {
   "cell_type": "code",
   "execution_count": null,
   "id": "047632e8-937f-4dc8-a9e4-42eec1356c3a",
   "metadata": {},
   "outputs": [],
   "source": [
    "import boto3\n",
    "import json\n",
    "import configparser\n",
    "import pandas as pd\n",
    "import time\n",
    "import psycopg2\n",
    "\n",
    "\n",
    "\n",
    "iam = boto3.client('iam', aws_access_key_id=KEY,\n",
    "                   aws_secret_access_key=SECRET,\n",
    "                   region_name='us-west-2'\n",
    "                   )\n",
    "\n",
    "redshift = boto3.client('redshift',\n",
    "                        region_name=\"us-west-2\",\n",
    "                        aws_access_key_id=KEY,\n",
    "                        aws_secret_access_key=SECRET\n",
    "                        )\n",
    "\n",
    "# run to delete the created resources\n",
    "redshift.delete_cluster( ClusterIdentifier=DWH_CLUSTER_IDENTIFIER,  SkipFinalClusterSnapshot=True)\n"
   ]
  },
  {
   "cell_type": "code",
   "execution_count": null,
   "id": "44d31d82-7300-47ae-b9a9-1be1633ca0e9",
   "metadata": {},
   "outputs": [],
   "source": []
  },
  {
   "cell_type": "code",
   "execution_count": null,
   "id": "ae8f24f6-268c-4af5-afda-57649a2faef3",
   "metadata": {},
   "outputs": [],
   "source": [
    "myClusterProps = redshift.describe_clusters(ClusterIdentifier=DWH_CLUSTER_IDENTIFIER)['Clusters'][0]\n",
    "prettyRedshiftProps(myClusterProps)"
   ]
  },
  {
   "cell_type": "code",
   "execution_count": null,
   "id": "070c62fe-923f-46d1-af43-eff75a0688ef",
   "metadata": {},
   "outputs": [],
   "source": [
    "# run to delete the created resources\n",
    "iam.detach_role_policy(RoleName=DWH_IAM_ROLE_NAME, PolicyArn=\"arn:aws:iam::aws:policy/AmazonS3ReadOnlyAccess\")\n",
    "iam.delete_role(RoleName=DWH_IAM_ROLE_NAME)"
   ]
  }
 ],
 "metadata": {
  "kernelspec": {
   "display_name": "Python 3 (ipykernel)",
   "language": "python",
   "name": "python3"
  },
  "language_info": {
   "codemirror_mode": {
    "name": "ipython",
    "version": 3
   },
   "file_extension": ".py",
   "mimetype": "text/x-python",
   "name": "python",
   "nbconvert_exporter": "python",
   "pygments_lexer": "ipython3",
   "version": "3.8.2"
  }
 },
 "nbformat": 4,
 "nbformat_minor": 5
}
